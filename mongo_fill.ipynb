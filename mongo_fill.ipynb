{
 "cells": [
  {
   "cell_type": "code",
   "execution_count": 9,
   "metadata": {},
   "outputs": [],
   "source": [
    "from langchain.embeddings.openai import OpenAIEmbeddings\n",
    "from langchain_community.document_loaders import WebBaseLoader, PyPDFLoader\n",
    "# from langchain.document_loaders import WebBaseLoader\n",
    "# from langchain.document_loaders import PyPDFLoader\n",
    "from langchain.text_splitter import RecursiveCharacterTextSplitter\n",
    "# from langchain.vectorstores import MongoDBAtlasVectorSearch\n",
    "from langchain_community.vectorstores import MongoDBAtlasVectorSearch\n",
    "from pymongo import MongoClient\n",
    "import params"
   ]
  },
  {
   "cell_type": "code",
   "execution_count": 10,
   "metadata": {},
   "outputs": [],
   "source": [
    "# Step 1: Load\n",
    "loaders = [\n",
    " PyPDFLoader(\"Code_de_la_commande_publique.pdf\"),\n",
    " PyPDFLoader(\"Vade-mecum_complet.pdf\")\n",
    "]"
   ]
  },
  {
   "cell_type": "code",
   "execution_count": 11,
   "metadata": {},
   "outputs": [],
   "source": [
    "\n",
    "# Dictionnaire des liens Google Drive\n",
    "pdf_links = {\n",
    "    \"Code_de_la_commande_publique.pdf\": \"https://drive.google.com/file/d/1YnpoJhBJ-RkKxt1o2BXQFgbWSkOrPNSJ/view?usp=sharing\",\n",
    "    \"Vade-mecum_complet.pdf\": \"https://drive.google.com/file/d/1eIgLDBh8XqHGHrVRITPNqwuaWH_miKZ_/view?usp=sharing\"\n",
    "}"
   ]
  },
  {
   "cell_type": "code",
   "execution_count": 12,
   "metadata": {},
   "outputs": [],
   "source": [
    "data = []\n",
    "for loader in loaders:\n",
    "    data.extend(loader.load())"
   ]
  },
  {
   "cell_type": "code",
   "execution_count": 13,
   "metadata": {},
   "outputs": [
    {
     "name": "stdout",
     "output_type": "stream",
     "text": [
      "Split into 3494 docs\n"
     ]
    }
   ],
   "source": [
    "# Step 2: Transform (Split)\n",
    "text_splitter = RecursiveCharacterTextSplitter(chunk_size=1000, chunk_overlap=0, separators=[\n",
    "                                               \"\\n\\n\", \"\\n\", \"(?<=\\. )\", \" \"], length_function=len)\n",
    "docs = text_splitter.split_documents(data)\n",
    "print('Split into ' + str(len(docs)) + ' docs')"
   ]
  },
  {
   "cell_type": "code",
   "execution_count": 14,
   "metadata": {},
   "outputs": [
    {
     "name": "stderr",
     "output_type": "stream",
     "text": [
      "c:\\Users\\teren\\Documents\\GitHub\\atlas-langchain\\venv\\lib\\site-packages\\langchain_core\\_api\\deprecation.py:117: LangChainDeprecationWarning: The class `langchain_community.embeddings.openai.OpenAIEmbeddings` was deprecated in langchain-community 0.1.0 and will be removed in 0.2.0. An updated version of the class exists in the langchain-openai package and should be used instead. To use it run `pip install -U langchain-openai` and import as `from langchain_openai import OpenAIEmbeddings`.\n",
      "  warn_deprecated(\n"
     ]
    }
   ],
   "source": [
    "# Step 3: Embed\n",
    "# https://api.python.langchain.com/en/latest/embeddings/langchain.embeddings.openai.OpenAIEmbeddings.html\n",
    "embeddings = OpenAIEmbeddings(openai_api_key=params.openai_api_key)"
   ]
  },
  {
   "cell_type": "code",
   "execution_count": 15,
   "metadata": {},
   "outputs": [],
   "source": [
    "\n",
    "# Step 4: Store\n",
    "# Initialize MongoDB python client\n",
    "client = MongoClient(params.mongodb_conn_string)\n",
    "collection = client[params.db_name][params.collection_name]"
   ]
  },
  {
   "cell_type": "code",
   "execution_count": 16,
   "metadata": {},
   "outputs": [
    {
     "data": {
      "text/plain": [
       "DeleteResult({'n': 2, 'electionId': ObjectId('7fffffff000000000000015e'), 'opTime': {'ts': Timestamp(1706876663, 78), 't': 350}, 'ok': 1.0, '$clusterTime': {'clusterTime': Timestamp(1706876663, 79), 'signature': {'hash': b\"U0;\\xdb\\xd1'oU\\x1aaU\\xf2dy\\xe9\\x1e\\n\\xa6\\xb6\\xc4\", 'keyId': 7284123895311892482}}, 'operationTime': Timestamp(1706876663, 78)}, acknowledged=True)"
      ]
     },
     "execution_count": 16,
     "metadata": {},
     "output_type": "execute_result"
    }
   ],
   "source": [
    "# Reset w/out deleting the Search Index \n",
    "collection.delete_many({})"
   ]
  },
  {
   "cell_type": "code",
   "execution_count": 17,
   "metadata": {},
   "outputs": [],
   "source": [
    "# Insert the documents in MongoDB Atlas with their embedding\n",
    "# https://github.com/hwchase17/langchain/blob/master/langchain/vectorstores/mongodb_atlas.py\n",
    "docsearch = MongoDBAtlasVectorSearch.from_documents(\n",
    "    docs, embeddings, collection=collection, index_name=params.index_name\n",
    ")"
   ]
  }
 ],
 "metadata": {
  "kernelspec": {
   "display_name": "venv",
   "language": "python",
   "name": "python3"
  },
  "language_info": {
   "codemirror_mode": {
    "name": "ipython",
    "version": 3
   },
   "file_extension": ".py",
   "mimetype": "text/x-python",
   "name": "python",
   "nbconvert_exporter": "python",
   "pygments_lexer": "ipython3",
   "version": "3.9.12"
  }
 },
 "nbformat": 4,
 "nbformat_minor": 2
}
