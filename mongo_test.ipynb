{
 "cells": [
  {
   "cell_type": "markdown",
   "metadata": {},
   "source": [
    "Test des fonctionnalité de mongodb"
   ]
  },
  {
   "cell_type": "code",
   "execution_count": 23,
   "metadata": {},
   "outputs": [],
   "source": [
    "from pymongo import MongoClient\n",
    "# from PyPDF2 import PdfReader\n",
    "from langchain_openai import OpenAIEmbeddings\n",
    "from langchain.text_splitter import RecursiveCharacterTextSplitter\n",
    "import os\n",
    "from dotenv import load_dotenv\n",
    "\n",
    "# Chargez les variables d'environnement à partir du fichier .env\n",
    "load_dotenv()"
   ]
  },
  {
   "cell_type": "code",
   "execution_count": 24,
   "metadata": {},
   "outputs": [],
   "source": [
    "# Accédez aux variables d'environnement en utilisant os.environ\n",
    "openai_api_key = os.environ.get(\"OPENAI_API_KEY\")\n",
    "mongodb_conn_string = os.environ.get(\"MONGODB_CONN_STRING\")\n",
    "db_name = os.environ.get(\"DB_NAME\")\n",
    "collection_name = os.environ.get(\"COLLECTION_NAME\")\n",
    "\n"
   ]
  },
  {
   "cell_type": "code",
   "execution_count": 25,
   "metadata": {},
   "outputs": [],
   "source": [
    "client = MongoClient(mongodb_conn_string)\n",
    "db = client[db_name]\n",
    "collection = db[collection_name]"
   ]
  },
  {
   "cell_type": "code",
   "execution_count": 26,
   "metadata": {},
   "outputs": [],
   "source": [
    "from langchain_community.document_loaders import PyPDFLoader\n",
    "# Step 1: Load\n",
    "loaders = [\n",
    "    PyPDFLoader(\"Code_de_la_commande_publique.pdf\"),\n",
    "    PyPDFLoader(\"Vade-mecum_complet.pdf\")\n",
    "]"
   ]
  },
  {
   "cell_type": "code",
   "execution_count": 27,
   "metadata": {},
   "outputs": [],
   "source": [
    "# Step 2: Transform (Split)\n",
    "data = []\n",
    "for loader in loaders:\n",
    "    data.extend(loader.load())"
   ]
  },
  {
   "cell_type": "code",
   "execution_count": 28,
   "metadata": {},
   "outputs": [
    {
     "name": "stdout",
     "output_type": "stream",
     "text": [
      "Split into 3494 docs\n"
     ]
    }
   ],
   "source": [
    "text_splitter = RecursiveCharacterTextSplitter(chunk_size=1000, chunk_overlap=0, separators=[\n",
    "    \"\\n\\n\", \"\\n\", \"(?<=\\. )\", \" \"], length_function=len)\n",
    "docs = text_splitter.split_documents(data)\n",
    "print('Split into ' + str(len(docs)) + ' docs')"
   ]
  },
  {
   "cell_type": "code",
   "execution_count": 29,
   "metadata": {},
   "outputs": [],
   "source": [
    "# Dictionnaire des liens Google Drive\n",
    "pdf_links = {\n",
    "    \"Code_de_la_commande_publique.pdf\": \"https://drive.google.com/file/d/1YnpoJhBJ-RkKxt1o2BXQFgbWSkOrPNSJ/view?usp=sharing\",\n",
    "    \"Vade-mecum_complet.pdf\": \"https://drive.google.com/file/d/1eIgLDBh8XqHGHrVRITPNqwuaWH_miKZ_/view?usp=sharing\"\n",
    "}\n"
   ]
  },
  {
   "cell_type": "code",
   "execution_count": 30,
   "metadata": {},
   "outputs": [],
   "source": [
    "# Initialize OpenAI Embeddings\n",
    "embeddings = OpenAIEmbeddings(openai_api_key= os.environ.get(\"OPENAI_API_KEY\"))"
   ]
  },
  {
   "cell_type": "code",
   "execution_count": 31,
   "metadata": {},
   "outputs": [
    {
     "name": "stdout",
     "output_type": "stream",
     "text": [
      "Link added successfully for 'Code_de_la_commande_publique.pdf'.\n",
      "Link added successfully for 'Vade-mecum_complet.pdf'.\n"
     ]
    }
   ],
   "source": [
    "# Parcourez la collection et mettez à jour les documents avec les liens Google Drive\n",
    "for pdf_filename, pdf_link in pdf_links.items():\n",
    "    update_result = collection.update_many(\n",
    "        {\"source\": pdf_filename},\n",
    "        {\"$set\": {\"link\": pdf_link}}\n",
    "    )\n",
    "\n",
    "    # Vérifiez si la mise à jour a réussi pour chaque document\n",
    "    if update_result.modified_count > 0:\n",
    "        print(f\"Link added successfully for '{pdf_filename}'.\")\n",
    "    else:\n",
    "        print(f\"Failed to add link for '{pdf_filename}'.\")"
   ]
  }
 ],
 "metadata": {
  "kernelspec": {
   "display_name": "venv",
   "language": "python",
   "name": "python3"
  },
  "language_info": {
   "codemirror_mode": {
    "name": "ipython",
    "version": 3
   },
   "file_extension": ".py",
   "mimetype": "text/x-python",
   "name": "python",
   "nbconvert_exporter": "python",
   "pygments_lexer": "ipython3",
   "version": "3.9.12"
  }
 },
 "nbformat": 4,
 "nbformat_minor": 2
}
